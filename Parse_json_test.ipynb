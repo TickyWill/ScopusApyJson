{
 "cells": [
  {
   "cell_type": "markdown",
   "id": "2fb6646a-24d5-46e6-aedf-5549b569bde1",
   "metadata": {},
   "source": [
    "# Emulation and testing cells\n",
    "https://jsonformatter.curiousconcept.com/# \n",
    "\n",
    "From a list of doi we build a csv file complying with scopus format"
   ]
  },
  {
   "cell_type": "code",
   "execution_count": 1,
   "id": "ec8c1775-79ef-455d-afde-5f2ebbe186db",
   "metadata": {},
   "outputs": [],
   "source": [
    "def build_scopus_csv(doi_file_list, root_path, api = True, api_config_path = None, api_doi_list = None):\n",
    "    # Standard library imports\n",
    "    from pathlib import Path\n",
    "    \n",
    "    # 3rd party imports\n",
    "    import pandas as pd\n",
    "    \n",
    "    # Local library imports\n",
    "    from ScopusApyJson.demo import build_scopus_csv_from_api\n",
    "    from ScopusApyJson.demo import build_scopus_csv_from_file\n",
    "        \n",
    "    if api:\n",
    "        scopus_df = build_scopus_csv_from_api(api_config_path, api_doi_list)\n",
    "        file_base = \"api\"\n",
    "    else:\n",
    "        scopus_df = build_scopus_csv_from_file(doi_file_list, root_path, check = True)\n",
    "        file_base = \"files\"\n",
    "    \n",
    "    file_name = file_base + \"_scopus\"\n",
    "    out_file_csv = root_path / Path(file_name + \".csv\")\n",
    "    scopus_df.to_csv(out_file_csv,\n",
    "                     header = True,\n",
    "                     index = False,\n",
    "                     sep = ',')\n",
    "    \n",
    "    out_file_xlsx = root_path / Path(file_name + \".xlsx\")\n",
    "    scopus_df.to_excel(out_file_xlsx, index = False)"
   ]
  },
  {
   "cell_type": "code",
   "execution_count": 2,
   "id": "6a2c456d-3b9a-44df-b4f0-862013f9be31",
   "metadata": {
    "tags": []
   },
   "outputs": [
    {
     "name": "stdout",
     "output_type": "stream",
     "text": [
      "cell run completed\n"
     ]
    }
   ],
   "source": [
    "# Standard library imports\n",
    "from pathlib import Path\n",
    "\n",
    "# User identification\n",
    "user_root = Path.home()\n",
    "user_id =  str(user_root)[str(user_root).rfind('\\\\')+1:]\n",
    "if user_id == \"AC265100\":\n",
    "    user_root_path   = user_root / Path(r\"Documents\\BiblioMeter_App\\Scopus_api_test\") \n",
    "    user_config_path = user_root_path / Path(\"api_scopus_config.json\")\n",
    "    user_api = False\n",
    "else:\n",
    "    user_root_path = user_root / Path(r\"Temp\\api_test\")\n",
    "    user_config_path = None\n",
    "    user_api = False\n",
    "#all the files are read and dump in the root_path\n",
    "\n",
    "if user_api:\n",
    "    doi_list = [\"doi/10.1016/j.fuproc.2022.107223\",\n",
    "                \"doi/10.1002/aenm.202102687\",\n",
    "                \"doi/10.1007/s13399-020-00894-9\",\n",
    "                \"doi/10.1063/5.0140495\",\n",
    "                \"doi/10.1021/acsphyschemau.3c00002\",\n",
    "                \"doi/10.1016/j.ijhydene.2023.08.189\",\n",
    "                \"doi/10.1021/acs.est.3c06557\",\n",
    "               ]\n",
    "    \n",
    "    doi_files_list = [\"doi_10.1016_j-fuproc-2022-107223\",\n",
    "                     \"doi10_1002aenm_202102687\",\n",
    "                     \"doi10_1007_s13399-020-00894-9\",\n",
    "                     \"doi_10-1063_5-0140495\",\n",
    "                     \"doi_10-1021_acsphyschemau-3c00002\",\n",
    "                     \"doi_10.1016_j-ijhydene-2023-08-189\",\n",
    "                     \"doi_10-1021_acs-est-3c06557\",\n",
    "                    ]\n",
    "else:\n",
    "    doi_list = None\n",
    "    doi_files_list = [\"doi_10.1016_j-fuproc-2022-107223\",\n",
    "                     \"doi10_1002aenm_202102687\",\n",
    "                     \"doi10_1007_s13399-020-00894-9\",\n",
    "                     \"doi_10-1063_5-0140495\",\n",
    "                     \"doi_10-1021_acsphyschemau-3c00002\",\n",
    "                     \"doi_10.1016_j-ijhydene-2023-08-189\",\n",
    "                     \"doi_10-1021_acs-est-3c06557\",\n",
    "                    ]\n",
    "     \n",
    "build_scopus_csv(doi_files_list, user_root_path, \n",
    "                 api = user_api, \n",
    "                 api_config_path = user_config_path, \n",
    "                 api_doi_list = doi_list)\n",
    "\n",
    "print(\"cell run completed\")"
   ]
  },
  {
   "cell_type": "code",
   "execution_count": null,
   "id": "915667ad-126b-4e76-8c6b-47910fc57c14",
   "metadata": {},
   "outputs": [],
   "source": []
  }
 ],
 "metadata": {
  "kernelspec": {
   "display_name": "Python 3 (ipykernel)",
   "language": "python",
   "name": "python3"
  },
  "language_info": {
   "codemirror_mode": {
    "name": "ipython",
    "version": 3
   },
   "file_extension": ".py",
   "mimetype": "text/x-python",
   "name": "python",
   "nbconvert_exporter": "python",
   "pygments_lexer": "ipython3",
   "version": "3.7.3"
  }
 },
 "nbformat": 4,
 "nbformat_minor": 5
}
