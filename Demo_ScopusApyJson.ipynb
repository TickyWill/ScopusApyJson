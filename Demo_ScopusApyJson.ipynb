{
 "cells": [
  {
   "cell_type": "markdown",
   "id": "2fb6646a-24d5-46e6-aedf-5549b569bde1",
   "metadata": {},
   "source": [
    "# Demo of ScopusApyJson\n",
    "\n",
    "From a list of DOIs, the package allows to build a dataframe which columns are defined in the file \".ScopusApyJson/CONFIG/scopus_col_names.json\"\n",
    "based on the Scopus API request on \"https://api.elsevier.com/content/abstract/\"."
   ]
  },
  {
   "cell_type": "code",
   "execution_count": 1,
   "id": "e713d347-4c18-42e2-8251-b097131295a1",
   "metadata": {},
   "outputs": [
    {
     "data": {
      "text/plain": [
       "'https://api.elsevier.com/content/abstract/doi/10.1016/j.fuproc.2022.107223?&apikey=cf9bb9562c9d3dbd9cb90a11605828c0&insttoken=11c310cecd6b4acb3e3fc8b77c9f7ee8&httpAccept=application/json'"
      ]
     },
     "execution_count": 1,
     "metadata": {},
     "output_type": "execute_result"
    }
   ],
   "source": [
    "# Exemple of a query built using the json file \"~\\Appdata\\Roaming\\HalApyJson\\api_scopus_config.json\"\n",
    "\n",
    "# Internal library imports\n",
    "from ScopusApyJson.api_manager import _set_els_doi_api\n",
    "\n",
    "# Globals imports\n",
    "from ScopusApyJson.GLOBALS import API_CONFIG_DICT\n",
    "\n",
    "# Setting client authentication keys\n",
    "MyScopusKey = API_CONFIG_DICT[\"apikey\"]\n",
    "MyInstKey   = API_CONFIG_DICT[\"insttoken\"]\n",
    "\n",
    "# Setting the search DOI\n",
    "demo_doi = \"doi/10.1016/j.fuproc.2022.107223\"\n",
    "\n",
    "_set_els_doi_api(MyScopusKey, MyInstKey, demo_doi)"
   ]
  },
  {
   "cell_type": "code",
   "execution_count": 5,
   "id": "59c94f08-fd51-4917-87ef-c894328c1af2",
   "metadata": {},
   "outputs": [
    {
     "name": "stdout",
     "output_type": "stream",
     "text": [
      "Resquest successful for DOI doi/10.1016/j.fuproc.2022.107223\n",
      "\n",
      "Response to Scopus API request saved in : C:\\Users\\AC265100\\demo_scopus_doi.json\n"
     ]
    }
   ],
   "source": [
    "# Exemple of a response to the SCOPUS API using `get_doi_json_data_from_api` function for a single DOI\n",
    "\n",
    "# Standard library imports\n",
    "import json\n",
    "from pathlib import Path\n",
    "\n",
    "# Local library imports\n",
    "import ScopusApyJson as saj\n",
    "\n",
    "# Setting user's path home\n",
    "path_home = Path.home()\n",
    "\n",
    "# Setting the doi for the scopus api request\n",
    "demo_doi = \"doi/10.1016/j.fuproc.2022.107223\"\n",
    "\n",
    "# Getting the corresponding json_data through the Scopus API request\n",
    "demo_json_data = saj.get_doi_json_data_from_api(demo_doi)\n",
    "\n",
    "# Saving results for further check\n",
    "file_name = \"demo_scopus_doi\"\n",
    "file_path = path_home / Path(f'{file_name}.json')\n",
    "with open(file_path, 'w') as file:\n",
    "    json.dump(demo_json_data, file, indent=4)\n",
    "print(f\"\\nResponse to Scopus API request saved in : {file_path}\")"
   ]
  },
  {
   "cell_type": "code",
   "execution_count": 8,
   "id": "66a8a28a-7193-41c7-8dba-cb1f09a38ad9",
   "metadata": {},
   "outputs": [
    {
     "name": "stdout",
     "output_type": "stream",
     "text": [
      "Resquest successful for DOI doi/10.1016/j.fuproc.2022.107223\n",
      "Resquest successful for DOI doi/10.1002/aenm.202102687\n",
      "Resquest successful for DOI doi/10.1007/s13399-020-00894-9\n",
      "Resquest successful for DOI doi/10.1063/5.0140495\n",
      "Resquest successful for DOI doi/10.1021/acsphyschemau.3c00002\n",
      "Resquest successful for DOI doi/10.1016/j.ijhydene.2023.08.189\n",
      "Resquest successful for DOI doi/10.1021/acs.est.3c06557\n",
      "\n",
      "Response to Scopus API request saved in : C:\\Users\\AC265100\\demo_scopus_doi_1.json\n",
      "\n",
      "Response to Scopus API request saved in : C:\\Users\\AC265100\\demo_scopus_doi_2.json\n",
      "\n",
      "Response to Scopus API request saved in : C:\\Users\\AC265100\\demo_scopus_doi_3.json\n",
      "\n",
      "Response to Scopus API request saved in : C:\\Users\\AC265100\\demo_scopus_doi_4.json\n",
      "\n",
      "Response to Scopus API request saved in : C:\\Users\\AC265100\\demo_scopus_doi_5.json\n",
      "\n",
      "Response to Scopus API request saved in : C:\\Users\\AC265100\\demo_scopus_doi_6.json\n",
      "\n",
      "Response to Scopus API request saved in : C:\\Users\\AC265100\\demo_scopus_doi_7.json\n"
     ]
    }
   ],
   "source": [
    "# Exemple of a response to the SCOPUS API using `get_doi_json_data_from_api` function for a list of DOIs\n",
    "\n",
    "# Standard library imports\n",
    "import json\n",
    "from pathlib import Path\n",
    "\n",
    "# Local library imports\n",
    "import ScopusApyJson as saj\n",
    "\n",
    "# Setting user's path home\n",
    "path_home = Path.home()\n",
    "\n",
    "# Setting a dict which values are the DOIs to be used in the api request\n",
    "# The dict keys may be used to build the file names where will be saved \n",
    "# the json response of the api request\n",
    "doi_dict = {\"doi_1\": \"doi/10.1016/j.fuproc.2022.107223\",\n",
    "            \"doi_2\": \"doi/10.1002/aenm.202102687\",\n",
    "            \"doi_3\": \"doi/10.1007/s13399-020-00894-9\",\n",
    "            \"doi_4\": \"doi/10.1063/5.0140495\",\n",
    "            \"doi_5\": \"doi/10.1021/acsphyschemau.3c00002\",\n",
    "            \"doi_6\": \"doi/10.1016/j.ijhydene.2023.08.189\",\n",
    "            \"doi_7\": \"doi/10.1021/acs.est.3c06557\",}\n",
    "\n",
    "# Initializing the dict of respective json data to be get through scopus api request\n",
    "json_data_dict = {}\n",
    "\n",
    "for k, doi in doi_dict.items(): \n",
    "    # Getting json data through scopus api request\n",
    "    json_data_dict[k] = saj.get_doi_json_data_from_api(doi)\n",
    "\n",
    "# Saving results to the user's path home for further check\n",
    "for file_name,json_data in json_data_dict.items():\n",
    "    file_path = path_home / Path(f'demo_scopus_{file_name}.json')\n",
    "    with open(file_path, 'w') as file:\n",
    "        json.dump(json_data, file, indent=4)     \n",
    "    print(f\"\\nResponse to Scopus API request saved in : {file_path}\")"
   ]
  },
  {
   "cell_type": "code",
   "execution_count": 17,
   "id": "0de1d07f-d8c5-4b31-8625-67ef2d4c0582",
   "metadata": {},
   "outputs": [
    {
     "name": "stdout",
     "output_type": "stream",
     "text": [
      "Resquest successful for DOI doi/10.1016/j.fuproc.2022.107223\n",
      "Resquest successful for DOI doi/10.1002/aenm.202102687\n",
      "\n",
      "Resulting dataframe from the Sopus API request saved \n",
      "  in:     C:\\Users\\AC265100\\demo_api_scopus.csv \n",
      "  and in: C:\\Users\\AC265100\\demo_api_scopus.xlsx\n"
     ]
    }
   ],
   "source": [
    "# Exemple of the dataframe built through the SCOPUS API using `build_scopus_df_from_api` function\n",
    "\n",
    "# Standard library imports\n",
    "from pathlib import Path\n",
    "\n",
    "# Local library imports\n",
    "import ScopusApyJson as saj\n",
    "\n",
    "# Setting user's path home\n",
    "path_home = Path.home()\n",
    "\n",
    "# Setting a dict which values are the DOIs to be used in the api request\n",
    "doi_dict = {\"doi_1\": \"doi/10.1016/j.fuproc.2022.107223\",\n",
    "            \"doi_2\": \"doi/10.1002/aenm.202102687\",\n",
    "            \"doi_3\": \"doi/10.1007/s13399-020-00894-9\",\n",
    "            \"doi_4\": \"doi/10.1063/5.0140495\",\n",
    "            \"doi_5\": \"doi/10.1021/acsphyschemau.3c00002\",\n",
    "            \"doi_6\": \"doi/10.1016/j.ijhydene.2023.08.189\",\n",
    "            \"doi_7\": \"doi/10.1021/acs.est.3c06557\",}\n",
    "doi_list = list(doi_dict.values())\n",
    "\n",
    "# Build the dataframe with the results of the parsing \n",
    "# of the API request response for each DOI of the doi_list list\n",
    "scopus_df = saj.build_scopus_df_from_api(doi_list)\n",
    "\n",
    "# Saving the dataframe as csv file and as xlsx file to the user path home\n",
    "file_name = \"api_scopus\"\n",
    "out_file_csv = path_home / Path(f\"demo_{file_name}.csv\")\n",
    "scopus_df.to_csv(out_file_csv,\n",
    "                 header = True,\n",
    "                 index = False,\n",
    "                 sep = ',')\n",
    "\n",
    "out_file_xlsx = path_home / Path(f\"demo_{file_name}.xlsx\")\n",
    "scopus_df.to_excel(out_file_xlsx, index = False)\n",
    "print(f\"\\nResulting dataframe from the Sopus API request saved \\n  in:     {out_file_csv} \\n  and in: {out_file_xlsx}\")"
   ]
  },
  {
   "cell_type": "code",
   "execution_count": null,
   "id": "20f1c0ab-203b-4cd0-918b-9ddd1e56757c",
   "metadata": {},
   "outputs": [],
   "source": []
  }
 ],
 "metadata": {
  "kernelspec": {
   "display_name": "ScopusApyJson_ker",
   "language": "python",
   "name": "scopusapyjson_ker"
  },
  "language_info": {
   "codemirror_mode": {
    "name": "ipython",
    "version": 3
   },
   "file_extension": ".py",
   "mimetype": "text/x-python",
   "name": "python",
   "nbconvert_exporter": "python",
   "pygments_lexer": "ipython3",
   "version": "3.9.7"
  }
 },
 "nbformat": 4,
 "nbformat_minor": 5
}
